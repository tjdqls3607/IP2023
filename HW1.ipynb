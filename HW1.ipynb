{
 "cells": [
  {
   "cell_type": "markdown",
   "metadata": {},
   "source": [
    "# HW1"
   ]
  },
  {
   "cell_type": "code",
   "execution_count": null,
   "metadata": {},
   "outputs": [],
   "source": [
    "import cv2\n",
    "import numpy as np \n",
    "\n",
    "\n",
    "events = [i for i in dir(cv2) if 'EVENT' in i]\n",
    "print(events)\n",
    "\n",
    "click = False     \n",
    "x1,y1 = -1,-1\n",
    "\n",
    "def nothing(x):\n",
    "    pass\n",
    "\n",
    "def draw_rectangle(event, x, y, flags, param):\n",
    "    global x1,y1, click                                     \n",
    "\n",
    "    if event == cv2.EVENT_LBUTTONDOWN:                     \n",
    "        click = True \n",
    "        x1, y1 = x,y\n",
    "        font = cv2.FONT_HERSHEY_SIMPLEX\n",
    "        cv2.putText(img,'mouse-('+str(x)+','+str(y)+')',\n",
    "                    (10,40), font, 1,(255,255,255),2,cv2.LINE_AA)\n",
    "        \n",
    "\t\t\n",
    "    elif event == cv2.EVENT_MOUSEMOVE:                      \n",
    "        if click == True:                                   \n",
    "            cv2.rectangle(img,(x1,y1),(x,y),(255,0,0),-1)\n",
    "           \n",
    "            print(\"(\" + str(x1) + \", \" + str(y1) + \"), (\" + str(x) + \", \" + str(y) + \")\")\n",
    "\n",
    "    elif event == cv2.EVENT_LBUTTONUP:\n",
    "        click = False;                                    \n",
    "        cv2.rectangle(img,(x1,y1),(x,y),(255,0,0),-1)\n",
    "\n",
    "\n",
    "\n",
    "img = np.zeros((500,500,3), np.uint8)\n",
    "\n",
    "img = cv2.imread('images.jpg',1)\n",
    "cv2.namedWindow('image')\n",
    "cv2.setMouseCallback('image',draw_rectangle)        \n",
    "cv2.createTrackbar('R','image',0,255,nothing)        \n",
    "\n",
    "\n",
    "while True:\n",
    "    \n",
    "    cv2.imshow('image', img)   \n",
    "\n",
    "    k = cv2.waitKey(1) & 0xFF \n",
    "        \n",
    "    if k == 27:         \n",
    "        break\n",
    "\n",
    "cv2.destroyAllWindows()"
   ]
  }
 ],
 "metadata": {
  "language_info": {
   "name": "python"
  }
 },
 "nbformat": 4,
 "nbformat_minor": 2
}
