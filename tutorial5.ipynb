{
 "cells": [
  {
   "cell_type": "code",
   "execution_count": null,
   "metadata": {},
   "outputs": [],
   "source": [
    "x = 5"
   ]
  },
  {
   "cell_type": "code",
   "execution_count": null,
   "metadata": {},
   "outputs": [],
   "source": [
    "if x ==3:\n",
    "    print(\"x equals 3.\")\n",
    "elif x ==2:\n",
    "    print(\"x equals 2.\")\n",
    "else:\n",
    "    print(\"x equals somthing else.\")"
   ]
  },
  {
   "cell_type": "code",
   "execution_count": null,
   "metadata": {},
   "outputs": [],
   "source": [
    "x=1\n",
    "while x <5:\n",
    "    print(x)\n",
    "    x=x+1  #c 언어처럼 x+=1 가능 x++ 는 불가능"
   ]
  }
 ],
 "metadata": {
  "language_info": {
   "name": "python"
  }
 },
 "nbformat": 4,
 "nbformat_minor": 2
}
