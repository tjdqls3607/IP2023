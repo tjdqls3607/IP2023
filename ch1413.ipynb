{
 "cells": [
  {
   "cell_type": "code",
   "execution_count": null,
   "metadata": {},
   "outputs": [],
   "source": [
    "import cv2\n",
    "from PIL import Image\n",
    "import numpy as np\n",
    "import matplotlib.pyplot as pl\n",
    "from matplotlib import pyplot as plt\n"
   ]
  },
  {
   "cell_type": "code",
   "execution_count": null,
   "metadata": {},
   "outputs": [],
   "source": [
    "def nothing(x):\n",
    "    pass\n",
    "\n",
    "img = cv2.imread('dsu6.jpg')\n",
    "gray = cv2.cvtColor(img,cv2.COLOR_BGR2GRAY)\n",
    "edges = cv2.Canny(gray,50,150,apertureSize = 3)\n",
    "cv2.namedWindow('image')\n",
    "cv2.createTrackbar('threshold', 'image', 100, 500, nothing)\n",
    "cv2.createTrackbar('number', 'image', 1, 100, nothing)\n",
    "font = cv2.FONT_HERSHEY_SIMPLEX\n",
    "while(1):\n",
    "    k = cv2.waitKey(1) & 0xFF\n",
    "    if k == 27:\n",
    "        break\n",
    "    threshold = cv2.getTrackbarPos('threshold', 'image')\n",
    "    number = cv2.getTrackbarPos('number', 'image')\n",
    "    lines = cv2.HoughLines(edges, 1, np.pi/180, threshold)\n",
    "    img_rgb = cv2.imread('dsu6.jpg')\n",
    "    numbers = number\n",
    "    if(lines.shape[0]<number):\n",
    "        numbers = lines.shape[0]\n",
    "    msg = \"numbers:\"+str(lines.shape[0])  \n",
    "    cv2.putText(img_rgb, msg, (10, 30), font, 0.5, (255,255,255), 1, cv2.LINE_AA)    \n",
    "    for i in range(numbers):\n",
    "        for rho,theta in lines[i]:\n",
    "            a = np.cos(theta)\n",
    "            b = np.sin(theta)\n",
    "            x0 = a*rho\n",
    "            y0 = b*rho\n",
    "            x1 = int(x0 + 1000*(-b))\n",
    "            y1 = int(y0 + 1000*(a))\n",
    "            x2 = int(x0 - 1000*(-b))\n",
    "            y2 = int(y0 - 1000*(a))\n",
    "            cv2.line(img_rgb,(x1,y1),(x2,y2),(0,0,255),2)\n",
    "    cv2.imshow('image',img_rgb)\n",
    "cv2.destroyAllWindows()\n"
   ]
  }
 ],
 "metadata": {
  "language_info": {
   "name": "python"
  }
 },
 "nbformat": 4,
 "nbformat_minor": 2
}
